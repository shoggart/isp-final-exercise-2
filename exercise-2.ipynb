{
 "cells": [
  {
   "cell_type": "markdown",
   "id": "f6662661",
   "metadata": {},
   "source": [
    "Import necessary libraries and save the audio data into a bytes object variable. "
   ]
  },
  {
   "cell_type": "code",
   "execution_count": 1,
   "id": "5745dc48",
   "metadata": {},
   "outputs": [
    {
     "name": "stdout",
     "output_type": "stream",
     "text": [
      "1\n",
      "2\n",
      "44100\n",
      "-----\n",
      "1\n",
      "2\n",
      "44100\n"
     ]
    }
   ],
   "source": [
    "# import wave library and read the each audio file into bytes object\n",
    "# also record the number of channels, sample width and frame rate \n",
    "# into appropriate variables for the decoding process\n",
    "\n",
    "import wave\n",
    "import math\n",
    "import os\n",
    "from array import *\n",
    "\n",
    "w = wave.open('Exercise2_Files/Sound1.wav', \"rb\")\n",
    "\n",
    "binary_data1 = w.readframes(w.getnframes())\n",
    "\n",
    "chan1 = w.getnchannels()\n",
    "width1 = w.getsampwidth()\n",
    "rate1 = w.getframerate()\n",
    "\n",
    "print(chan1)\n",
    "print(width1)\n",
    "print(rate1)\n",
    "\n",
    "w.close()\n",
    "\n",
    "print(\"-----\")\n",
    "\n",
    "w = wave.open('Exercise2_Files/Sound2.wav', \"rb\")\n",
    "\n",
    "binary_data2 = w.readframes(w.getnframes())\n",
    "\n",
    "chan2 = w.getnchannels()\n",
    "width2 = w.getsampwidth()\n",
    "rate2 = w.getframerate()\n",
    "\n",
    "print(chan2)\n",
    "print(width2)\n",
    "print(rate2)\n",
    "\n",
    "w.close()\n",
    "\n",
    "K = 4\n",
    "divisor = int(math.pow(2, K))"
   ]
  },
  {
   "cell_type": "markdown",
   "id": "ba0b1044",
   "metadata": {},
   "source": [
    "Implement the rice code algorithm."
   ]
  },
  {
   "cell_type": "code",
   "execution_count": 2,
   "id": "7d2bf93a",
   "metadata": {},
   "outputs": [],
   "source": [
    "# function to perform rice coding on the integers returned from\n",
    "# the wave files\n",
    "\n",
    "def rice_code(S,M):\n",
    "    # calculate the value of K from the parameter M\n",
    "    K = int(math.ceil(math.log(M,2)))\n",
    "    # calculate the remainder of S divided by M\n",
    "    r = S % M\n",
    "    # calculate the quotient of S divided by M\n",
    "    q = int(math.floor(S / M))\n",
    "    # initialize the string of leading ones and then add as\n",
    "    # many ones to the string as the quotient of S and M\n",
    "    leading_ones = \"\"\n",
    "    for i in range(q):\n",
    "        leading_ones = leading_ones + \"1\"\n",
    "    # create a string to format the binary string of the remainder\n",
    "    bin_format_r = \"{0:0\" + str(K) + \"b}\"\n",
    "    # get the binary string of the remainder\n",
    "    binary_r = bin_format_r.format(r)\n",
    "    # create the final output string\n",
    "    rice_code = leading_ones + \"0\" + str(binary_r)\n",
    "    \n",
    "    return rice_code\n"
   ]
  },
  {
   "cell_type": "markdown",
   "id": "e7e0181c",
   "metadata": {},
   "source": [
    "Write the encoded strings to .ex2 file. "
   ]
  },
  {
   "cell_type": "code",
   "execution_count": 3,
   "id": "db685f9e",
   "metadata": {},
   "outputs": [],
   "source": [
    "def write_enc_to_file(data, path, M):    \n",
    "    # initialize an array and store the results of passing the wave file\n",
    "    # integer data to the rice coding function\n",
    "    rice_arr = []\n",
    "    for x in data:\n",
    "        rice_arr.append(rice_code(x, M))\n",
    "\n",
    "    print(len(rice_arr))\n",
    "    # open file given by path to write encoded data \n",
    "    f = open(path, \"w\")\n",
    "    # write data to file line by line\n",
    "    for x in range(len(rice_arr)):\n",
    "        temp = rice_arr[x] + \"\\n\"\n",
    "        f.write(temp)\n",
    "    f.close()"
   ]
  },
  {
   "cell_type": "code",
   "execution_count": 4,
   "id": "3ed58b45",
   "metadata": {},
   "outputs": [
    {
     "name": "stdout",
     "output_type": "stream",
     "text": [
      "1002044\n",
      "1008000\n"
     ]
    }
   ],
   "source": [
    "# encode wave file data and write to new file\n",
    "write_enc_to_file(binary_data1, \"Sound1_Enc.ex2\", divisor)\n",
    "write_enc_to_file(binary_data2, \"Sound2_Enc.ex2\", divisor)"
   ]
  },
  {
   "cell_type": "markdown",
   "id": "5d4c1024",
   "metadata": {},
   "source": [
    "Convert a binary string to a decimal integer."
   ]
  },
  {
   "cell_type": "code",
   "execution_count": 5,
   "id": "3d14462f",
   "metadata": {},
   "outputs": [],
   "source": [
    "# function to convert a binary string to a decimal integer\n",
    "\n",
    "def bin_str_to_decimal(bin_str):\n",
    "    # set the remainder equal to 0 \n",
    "    r = 0\n",
    "    # set place value equal to 2 less than the length of the string \n",
    "    # because the strings being pass all contain the new line\n",
    "    # escape sequence so they're too long by one character\n",
    "    place_value = int(math.pow(2, len(bin_str) - 2))\n",
    "    # iterate through the binary string except the last value \n",
    "    # which we don't care about here\n",
    "    for i in range(len(bin_str) - 1):\n",
    "        # increment r by the place value multiplied by the current\n",
    "        # binary value\n",
    "        r += int(bin_str[i]) * place_value\n",
    "        # divide the place value by 2 to move on to the next place value\n",
    "        place_value = int(place_value / 2)\n",
    "    return r"
   ]
  },
  {
   "cell_type": "markdown",
   "id": "ccb03c29",
   "metadata": {},
   "source": [
    "Convert a decimal integer to a binary string. "
   ]
  },
  {
   "cell_type": "code",
   "execution_count": 6,
   "id": "e3244619",
   "metadata": {},
   "outputs": [],
   "source": [
    "# function to convert a decimal integer to a binary string\n",
    "\n",
    "def decimal_to_bin_str(decimal_int):\n",
    "    #initialize the binary string\n",
    "    bin_str = \"\"\n",
    "    while decimal_int > 0:\n",
    "        # add the result of the decimal int modulo 2 to the binary string\n",
    "        bin_str = str(decimal_int % 2) + bin_str\n",
    "        # divide the decimal int by two and cast result to integer\n",
    "        decimal_int = int(decimal_int / 2)\n",
    "    # return resulting binary string\n",
    "    return bin_str"
   ]
  },
  {
   "cell_type": "markdown",
   "id": "5f95f097",
   "metadata": {},
   "source": [
    "Decode the rice encoded file."
   ]
  },
  {
   "cell_type": "code",
   "execution_count": 7,
   "id": "25380878",
   "metadata": {},
   "outputs": [],
   "source": [
    "# function to decode the rice coded files\n",
    "\n",
    "def dec_file(file, M):\n",
    "    # open the file in read mode\n",
    "    f = open(file, \"r\")\n",
    "    # read file line by line and store data in a list\n",
    "    dec_arr = f.readlines()\n",
    "    # intialize the \n",
    "    decimal_arr = []\n",
    "    # iterate through the encoded array\n",
    "    for i in range(len(dec_arr)):\n",
    "        # initialize a variable to check if we're still iterating\n",
    "        # through the leading string of 1's\n",
    "        check = True\n",
    "        # initialize the quotient to 0\n",
    "        q = 0\n",
    "        # initialize the remainder to 0 and initialize an empty remainder string\n",
    "#         r = 0\n",
    "        remainder = \"\"\n",
    "        for j in range(len(dec_arr[i])):\n",
    "            # if current value is 1 and check is true we're still in \n",
    "            # the initial string of 1's so we increment q\n",
    "            if dec_arr[i][j] == \"1\" and check == True:\n",
    "                q += 1\n",
    "            # if current value is 0 and check is true we've just reached \n",
    "            # the end of the initial string of 1's so set check to false\n",
    "            elif dec_arr[i][j] == \"0\" and check == True:\n",
    "                check = False\n",
    "            # in this case check is false so we just append the rest of \n",
    "            # the string to remainder\n",
    "            else:\n",
    "                remainder += dec_arr[i][j]\n",
    "        # send the remainder string to the binary string to decimal function\n",
    "        # to convert it to a decimal int\n",
    "        r = int(bin_str_to_decimal(remainder))\n",
    "        # append the decoded integer value to the decimal array\n",
    "        decimal_arr.append(q * M + r)\n",
    "    return decimal_arr"
   ]
  },
  {
   "cell_type": "code",
   "execution_count": 8,
   "id": "c9f1e6cd",
   "metadata": {},
   "outputs": [],
   "source": [
    "decimal_arr1 = dec_file(\"Sound1_Enc.ex2\", divisor)\n",
    "decimal_arr2 = dec_file(\"Sound2_Enc.ex2\", divisor)"
   ]
  },
  {
   "cell_type": "markdown",
   "id": "cca6a8ef",
   "metadata": {},
   "source": [
    "Write a given bytes object to a .wav file."
   ]
  },
  {
   "cell_type": "code",
   "execution_count": 9,
   "id": "8dc0519d",
   "metadata": {},
   "outputs": [],
   "source": [
    "# function to write decoded data to wave file\n",
    "\n",
    "def write_to_wav_file(file, data, chan, width, rate):\n",
    "    # convert data to byte array object\n",
    "    bytes_object = bytearray(data)\n",
    "    # convert byte array object to immutable bytes object\n",
    "    bytes_object = bytes(bytes_object)\n",
    "    \n",
    "#     f = open(\"demofile.ex2\", \"w\")\n",
    "#     for x in range(len(bytes_object)):\n",
    "#         temp = bytes_object[x]\n",
    "#         f.write(temp)\n",
    "#     f.close()\n",
    "    \n",
    "    # open wave file with the given file name\n",
    "    w = wave.open(file, \"wb\")\n",
    "    \n",
    "    w.setnchannels(chan)\n",
    "    w.setsampwidth(width)\n",
    "    w.setframerate(rate)\n",
    "    # write the frames and print the size of the bytes_object \n",
    "    # to check that it's the same size as the original data\n",
    "    w.writeframesraw(bytes_object)\n",
    "    print(len(bytes_object))\n",
    "\n",
    "    w.close()"
   ]
  },
  {
   "cell_type": "code",
   "execution_count": 10,
   "id": "d42e1d8b",
   "metadata": {},
   "outputs": [
    {
     "name": "stdout",
     "output_type": "stream",
     "text": [
      "1002044\n",
      "1008000\n"
     ]
    }
   ],
   "source": [
    "write_to_wav_file('Sound1_EncDec.wav', decimal_arr1, chan1, width1, rate1)\n",
    "write_to_wav_file('Sound2_EncDec.wav', decimal_arr2, chan2, width2, rate2)"
   ]
  },
  {
   "cell_type": "markdown",
   "id": "afe19182",
   "metadata": {},
   "source": [
    "=================================================================================================================="
   ]
  },
  {
   "cell_type": "markdown",
   "id": "0c3aa9d2",
   "metadata": {},
   "source": [
    "=================================================================================================================="
   ]
  },
  {
   "cell_type": "markdown",
   "id": "476ac40c",
   "metadata": {},
   "source": [
    "FURTHER DEVELOPMENT"
   ]
  },
  {
   "cell_type": "markdown",
   "id": "0925bfa5",
   "metadata": {},
   "source": [
    "=================================================================================================================="
   ]
  },
  {
   "cell_type": "markdown",
   "id": "14cc9196",
   "metadata": {},
   "source": [
    "=================================================================================================================="
   ]
  },
  {
   "cell_type": "markdown",
   "id": "19545fc7",
   "metadata": {},
   "source": [
    "Implementation of the improved run length rice coding algorithm. "
   ]
  },
  {
   "cell_type": "code",
   "execution_count": 11,
   "id": "3a687f1f",
   "metadata": {},
   "outputs": [],
   "source": [
    "# improved rice code function using run length encoding for \n",
    "# the leading ones in the rice codes and eliminating the\n",
    "# dividing zero between quotient and remainder\n",
    "\n",
    "def run_rice_code(S,M):\n",
    "    # calculate the value of K from the parameter M\n",
    "    K = int(math.ceil(math.log(M,2)))\n",
    "    # calculate the remainder of S divided by M\n",
    "    r = S % M\n",
    "    # calculate the quotient of S divided by M\n",
    "    q = int(math.floor(S / M))\n",
    "    # initialize the string of leading ones and then add as\n",
    "    # many ones to the string as the quotient of S and M\n",
    "    leading_ones = \"\"\n",
    "    # if the quotient is greater than zero append it to bitstring \n",
    "    # and pad with zeros to make sure it's the correct length\n",
    "    if q > 0:\n",
    "        # append the number of leading ones in the rice code\n",
    "        # written as a binary number\n",
    "        leading_ones += decimal_to_bin_str(q)\n",
    "        # calculate the maximum number of bits needed for quotient\n",
    "        # given M = 2^K\n",
    "        q_len = int(math.ceil(math.log(int(256 / M),2)))\n",
    "        # if quotient isn't equal to q_len, pad quotient with required\n",
    "        # number of 0's at the beginning of the string\n",
    "        if len(leading_ones) < q_len:\n",
    "            for i in range(q_len - len(leading_ones)):\n",
    "                leading_ones = \"0\" + leading_ones\n",
    "        # since q > 0 start bitstring with 1 to indicate we're not going\n",
    "        # straight to the remainder\n",
    "        leading_ones = \"1\" + leading_ones\n",
    "    else:\n",
    "        # if q == 0 start bitstring with 0 to indicate we're going\n",
    "        # directly to the remainder\n",
    "        leading_ones = \"0\"\n",
    "    # create a string to format the binary string of the remainder\n",
    "    bin_format_r = \"{0:0\" + str(K) + \"b}\"\n",
    "    # get the binary string of the remainder\n",
    "    binary_r = bin_format_r.format(r)\n",
    "    # create the final output string\n",
    "    rice_code = leading_ones + str(binary_r)\n",
    "    \n",
    "    return rice_code"
   ]
  },
  {
   "cell_type": "markdown",
   "id": "32939fbd",
   "metadata": {},
   "source": [
    "Convert a bytes object to a binary string. "
   ]
  },
  {
   "cell_type": "code",
   "execution_count": 12,
   "id": "e8806b69",
   "metadata": {},
   "outputs": [],
   "source": [
    "# function to generate a single bitstring from given\n",
    "# bytes object\n",
    "\n",
    "def generate_bin_string(data, M):    \n",
    "    # initialize the binary string\n",
    "    bin_str = \"\"\n",
    "    # initialize a temporary array to hold individual rice codes\n",
    "    rice_arr = []\n",
    "    # append each rice code string to array for each element in \n",
    "    # the bytes object\n",
    "    for x in data:\n",
    "        rice_arr.append(run_rice_code(x, M))\n",
    "    # append each of element of the temporary array to binary string\n",
    "    for x in rice_arr:\n",
    "        bin_str += x\n",
    "    return bin_str"
   ]
  },
  {
   "cell_type": "markdown",
   "id": "9cd7bf48",
   "metadata": {},
   "source": [
    "Write binary data to a .bnr file."
   ]
  },
  {
   "cell_type": "code",
   "execution_count": 13,
   "id": "759c55ef",
   "metadata": {},
   "outputs": [],
   "source": [
    "# function to write the encoded binary string to a binary file\n",
    "\n",
    "def write_to_bnr_file(data, file_name):\n",
    "    # separate string into 8 bit segments\n",
    "    segments = [data[x:x + 8] for x in range(0, len(data), 8)]\n",
    "    input_array = array('B')\n",
    "    output_array = array('B')\n",
    "    # convert bits to int and add to list\n",
    "    for segment in segments:\n",
    "        input_array.append(int(segment, 2))\n",
    "    # write each element of array to given binary file\n",
    "    with open(file_name, \"wb+\") as f:\n",
    "        input_array.tofile(f)\n",
    "        f.close()\n",
    "    # read each element back from the given binary file\n",
    "    with open(file_name, \"rb+\") as f:\n",
    "        output_array.fromfile(f, len(input_array))\n",
    "        f.close()\n",
    "    # convert back to binary string and append to a \n",
    "    # single string\n",
    "    bitstring = \"\"\n",
    "    for x in output_array:\n",
    "        bitstring += \"{:08b}\".format(x, \"08b\")\n",
    "    return bitstring"
   ]
  },
  {
   "cell_type": "code",
   "execution_count": 14,
   "id": "716880bd",
   "metadata": {},
   "outputs": [],
   "source": [
    "bin_str1 = generate_bin_string(binary_data1, divisor)\n",
    "bitstring1 = write_to_bnr_file(bin_str1, \"Sound1_Impr_Bin_Enc.bnr\")\n",
    "bin_str2 = generate_bin_string(binary_data2, divisor)\n",
    "bitstring2 = write_to_bnr_file(bin_str2, \"Sound2_Impr_Bin_Enc.bnr\")"
   ]
  },
  {
   "cell_type": "markdown",
   "id": "a691f0eb",
   "metadata": {},
   "source": [
    "Function to decode the improved run length rice coding algorithm."
   ]
  },
  {
   "cell_type": "code",
   "execution_count": 15,
   "id": "11859903",
   "metadata": {},
   "outputs": [],
   "source": [
    "# function to decode the ideas for further development binary data\n",
    "\n",
    "def dec_binary_data(data, M):\n",
    "    # initialize a decimal array\n",
    "    decimal_arr = []\n",
    "    # calculate the maximum length of the quotient\n",
    "    q_len = int(math.ceil(math.log(int(256 / M),2)))\n",
    "    # boolean variable used to determine whether or not we've \n",
    "    # moved on to the next rice code\n",
    "    next_num = True\n",
    "    # initialize quotient string\n",
    "    quotient = \"\"\n",
    "    # initialize remainder string\n",
    "    remainder = \"\"\n",
    "    # initialize counter to determine if we've made it to the\n",
    "    # end of the quotient in the code\n",
    "    q_count = 0\n",
    "    # initialize counter to determine if we've made it to the \n",
    "    # end of the remainder in the code\n",
    "    r_count = 0\n",
    "    # variable to determine whether or not a quotient exists\n",
    "    check_quotient = False\n",
    "    for i in range(len(data)):\n",
    "        # check if we're in a new rice code and if there's a positive quotient\n",
    "        if next_num == True and data[i] == \"1\":\n",
    "            next_num = False\n",
    "            check_quotient = True\n",
    "        # check if we're in a new rice code and quotient is 0 \n",
    "        elif next_num == True and data[i] == \"0\":\n",
    "            next_num = False\n",
    "        # if there's a quotient check whether or not we've reached\n",
    "        # the end of the quotient\n",
    "        elif next_num == False and check_quotient == True and q_count < q_len:\n",
    "            quotient += data[i]\n",
    "            q_count += 1\n",
    "            if q_count == q_len:\n",
    "                check_quotient = False\n",
    "        # if there's no quotient or we've reached the end of it, check\n",
    "        # if we've reached the end of the remainder\n",
    "        elif next_num == False and check_quotient == False and r_count < ((8 - q_len) - 1):\n",
    "            remainder += data[i]\n",
    "            r_count += 1\n",
    "        # if we've reached the end of the code, calculate the decimal integer,\n",
    "        # save it to the array and reset the check variables\n",
    "        else:\n",
    "            remainder += data[i]\n",
    "            q = int(bin_str_to_decimal(quotient + \" \"))\n",
    "            r = int(bin_str_to_decimal(remainder + \" \"))\n",
    "            decimal_arr.append(q * M + r)\n",
    "            q_count = 0\n",
    "            r_count = 0\n",
    "            quotient = \"\"\n",
    "            remainder = \"\"\n",
    "            check_quotient = False\n",
    "            next_num = True\n",
    "    return decimal_arr"
   ]
  },
  {
   "cell_type": "code",
   "execution_count": 16,
   "id": "cf81fe53",
   "metadata": {},
   "outputs": [],
   "source": [
    "imp_bin_data_1 = dec_binary_data(bitstring1, divisor)\n",
    "imp_bin_data_2 = dec_binary_data(bitstring2, divisor)"
   ]
  },
  {
   "cell_type": "code",
   "execution_count": 17,
   "id": "5dc4baab",
   "metadata": {},
   "outputs": [
    {
     "name": "stdout",
     "output_type": "stream",
     "text": [
      "1002044\n",
      "1008000\n"
     ]
    }
   ],
   "source": [
    "write_to_wav_file('Sound1_Impr_Bin_EncDec.wav', imp_bin_data_1, chan1, width1, rate1)\n",
    "write_to_wav_file('Sound2_Impr_Bin_EncDec.wav', imp_bin_data_2, chan2, width2, rate2)"
   ]
  },
  {
   "cell_type": "code",
   "execution_count": null,
   "id": "ee6c7cdb",
   "metadata": {},
   "outputs": [],
   "source": []
  },
  {
   "cell_type": "code",
   "execution_count": null,
   "id": "f98ad1b9",
   "metadata": {},
   "outputs": [],
   "source": []
  }
 ],
 "metadata": {
  "kernelspec": {
   "display_name": "Python 3 (ipykernel)",
   "language": "python",
   "name": "python3"
  },
  "language_info": {
   "codemirror_mode": {
    "name": "ipython",
    "version": 3
   },
   "file_extension": ".py",
   "mimetype": "text/x-python",
   "name": "python",
   "nbconvert_exporter": "python",
   "pygments_lexer": "ipython3",
   "version": "3.9.7"
  }
 },
 "nbformat": 4,
 "nbformat_minor": 5
}
